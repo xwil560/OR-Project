{
 "cells": [
  {
   "cell_type": "code",
   "execution_count": 71,
   "id": "cfe0bad4",
   "metadata": {},
   "outputs": [],
   "source": [
    "# install packages and get data\n",
    "import pandas as pd\n",
    "import numpy as np\n",
    "import seaborn as sns\n",
    "\n",
    "demand = pd.read_csv(\"WoolworthsDemands.csv\")\n",
    "locations = pd.read_csv(\"WoolworthsLocations.csv\")\n",
    "travelDur = pd.read_csv(\"WoolworthsTravelDurations.csv\")"
   ]
  },
  {
   "cell_type": "code",
   "execution_count": 27,
   "id": "eb5f5958",
   "metadata": {},
   "outputs": [
    {
     "name": "stderr",
     "output_type": "stream",
     "text": [
      "<ipython-input-27-fcb081ca6e4b>:9: UserWarning: Boolean Series key will be reindexed to match DataFrame index.\n",
      "  demand_long[demand_long.Weekday==1][demand_long.Store==\"FreshChoice Otahuhu\"]\n"
     ]
    },
    {
     "data": {
      "text/html": [
       "<div>\n",
       "<style scoped>\n",
       "    .dataframe tbody tr th:only-of-type {\n",
       "        vertical-align: middle;\n",
       "    }\n",
       "\n",
       "    .dataframe tbody tr th {\n",
       "        vertical-align: top;\n",
       "    }\n",
       "\n",
       "    .dataframe thead th {\n",
       "        text-align: right;\n",
       "    }\n",
       "</style>\n",
       "<table border=\"1\" class=\"dataframe\">\n",
       "  <thead>\n",
       "    <tr style=\"text-align: right;\">\n",
       "      <th></th>\n",
       "      <th>Store</th>\n",
       "      <th>Date</th>\n",
       "      <th>Demand</th>\n",
       "      <th>Weekday</th>\n",
       "      <th>DayClass</th>\n",
       "    </tr>\n",
       "  </thead>\n",
       "  <tbody>\n",
       "    <tr>\n",
       "      <th>123</th>\n",
       "      <td>FreshChoice Otahuhu</td>\n",
       "      <td>2021-06-15</td>\n",
       "      <td>2</td>\n",
       "      <td>1</td>\n",
       "      <td>Weekday</td>\n",
       "    </tr>\n",
       "    <tr>\n",
       "      <th>578</th>\n",
       "      <td>FreshChoice Otahuhu</td>\n",
       "      <td>2021-06-22</td>\n",
       "      <td>2</td>\n",
       "      <td>1</td>\n",
       "      <td>Weekday</td>\n",
       "    </tr>\n",
       "    <tr>\n",
       "      <th>1033</th>\n",
       "      <td>FreshChoice Otahuhu</td>\n",
       "      <td>2021-06-29</td>\n",
       "      <td>2</td>\n",
       "      <td>1</td>\n",
       "      <td>Weekday</td>\n",
       "    </tr>\n",
       "    <tr>\n",
       "      <th>1488</th>\n",
       "      <td>FreshChoice Otahuhu</td>\n",
       "      <td>2021-07-06</td>\n",
       "      <td>4</td>\n",
       "      <td>1</td>\n",
       "      <td>Weekday</td>\n",
       "    </tr>\n",
       "  </tbody>\n",
       "</table>\n",
       "</div>"
      ],
      "text/plain": [
       "                    Store       Date  Demand  Weekday DayClass\n",
       "123   FreshChoice Otahuhu 2021-06-15       2        1  Weekday\n",
       "578   FreshChoice Otahuhu 2021-06-22       2        1  Weekday\n",
       "1033  FreshChoice Otahuhu 2021-06-29       2        1  Weekday\n",
       "1488  FreshChoice Otahuhu 2021-07-06       4        1  Weekday"
      ]
     },
     "execution_count": 27,
     "metadata": {},
     "output_type": "execute_result"
    }
   ],
   "source": [
    "demand_long = demand.melt(id_vars = 'Store',var_name='Date', value_name='Demand' )\n",
    "\n",
    "demand_long.Date = pd.to_datetime(demand_long.Date)\n",
    "\n",
    "demand_long['Weekday'] = demand_long.Date.dt.dayofweek\n",
    "\n",
    "demand_long = demand_long.assign(DayClass=[\"Weekend\" if day in (5,6) else \"Weekday\" for day in demand_long.Weekday])\n",
    "\n",
    "demand_long[demand_long.Weekday==1][demand_long.Store==\"FreshChoice Otahuhu\"]"
   ]
  },
  {
   "cell_type": "code",
   "execution_count": 56,
   "id": "2cff6409",
   "metadata": {},
   "outputs": [
    {
     "name": "stderr",
     "output_type": "stream",
     "text": [
      "<ipython-input-56-c2cd61f03f3e>:9: UserWarning: Boolean Series key will be reindexed to match DataFrame index.\n",
      "  small_df = demand_long[demand_long.StoreClass==\"Small\"][demand_long.DayClass==\"Weekday\"]\n",
      "<ipython-input-56-c2cd61f03f3e>:10: UserWarning: Boolean Series key will be reindexed to match DataFrame index.\n",
      "  big_wkday_df = demand_long[demand_long.StoreClass==\"Big\"][demand_long.DayClass==\"Weekday\"]\n",
      "<ipython-input-56-c2cd61f03f3e>:11: UserWarning: Boolean Series key will be reindexed to match DataFrame index.\n",
      "  big_wkend_df = demand_long[demand_long.StoreClass==\"Big\"][demand_long.Weekday==5]\n"
     ]
    }
   ],
   "source": [
    "import re\n",
    "demand_long[\"StoreClass\"] = [\n",
    "        (\"Big\",\"Small\")[re.search(\"(FreshChoice|SuperValue|Countdown Metro).*\", store) is not None] for store in demand_long.Store\n",
    "    ]\n",
    "\n",
    "demand_long[[re.search(\"(FreshChoice|SuperValue|Countdown Metro).*\", store) is not None for store in demand_long.Store]]\n",
    "\n",
    "\n",
    "small_df = demand_long[demand_long.StoreClass==\"Small\"][demand_long.DayClass==\"Weekday\"]\n",
    "big_wkday_df = demand_long[demand_long.StoreClass==\"Big\"][demand_long.DayClass==\"Weekday\"]\n",
    "big_wkend_df = demand_long[demand_long.StoreClass==\"Big\"][demand_long.Weekday==5]"
   ]
  },
  {
   "cell_type": "code",
   "execution_count": 78,
   "id": "15d7f361",
   "metadata": {},
   "outputs": [
    {
     "name": "stdout",
     "output_type": "stream",
     "text": [
      "4.4125\n"
     ]
    },
    {
     "data": {
      "text/plain": [
       "<AxesSubplot:xlabel='Demand', ylabel='Count'>"
      ]
     },
     "execution_count": 78,
     "metadata": {},
     "output_type": "execute_result"
    },
    {
     "data": {
      "image/png": "[encoded data removed]",
      "text/plain": [
       "<Figure size 432x288 with 1 Axes>"
      ]
     },
     "metadata": {
      "needs_background": "light"
     },
     "output_type": "display_data"
    }
   ],
   "source": [
    "# small_df.Demand.hist(bins=np.arange(0.5,9.5))\n",
    "print(small_df.Demand.mean())\n",
    "sns.histplot(small_df.Demand, bins=np.arange(1.5,10.5))"
   ]
  },
  {
   "cell_type": "code",
   "execution_count": 76,
   "id": "6f450629",
   "metadata": {},
   "outputs": [
    {
     "name": "stdout",
     "output_type": "stream",
     "text": [
      "7.986792452830189\n"
     ]
    },
    {
     "data": {
      "text/plain": [
       "<AxesSubplot:xlabel='Demand', ylabel='Count'>"
      ]
     },
     "execution_count": 76,
     "metadata": {},
     "output_type": "execute_result"
    },
    {
     "data": {
      "image/png": "[encoded data removed]",
      "text/plain": [
       "<Figure size 432x288 with 1 Axes>"
      ]
     },
     "metadata": {
      "needs_background": "light"
     },
     "output_type": "display_data"
    }
   ],
   "source": [
    "# big_wkday_df.Demand.hist(bins=np.arange(0.5,15.5))\n",
    "print(big_wkday_df.Demand.mean())\n",
    "sns.histplot(big_wkday_df.Demand, bins=np.arange(1.5,15.5))"
   ]
  },
  {
   "cell_type": "code",
   "execution_count": 75,
   "id": "3b9f8616",
   "metadata": {},
   "outputs": [
    {
     "name": "stdout",
     "output_type": "stream",
     "text": [
      "3.8962264150943398\n"
     ]
    },
    {
     "data": {
      "text/plain": [
       "<AxesSubplot:xlabel='Demand', ylabel='Count'>"
      ]
     },
     "execution_count": 75,
     "metadata": {},
     "output_type": "execute_result"
    },
    {
     "data": {
      "image/png": "[encoded data removed]",
      "text/plain": [
       "<Figure size 432x288 with 1 Axes>"
      ]
     },
     "metadata": {
      "needs_background": "light"
     },
     "output_type": "display_data"
    }
   ],
   "source": [
    "# big_wkend_df.Demand.hist(bins=np.arange(1.5,6.5))\n",
    "print(big_wkend_df.Demand.mean())\n",
    "\n",
    "sns.histplot(big_wkend_df.Demand, bins=np.arange(1.5,6.5))\n"
   ]
  },
  {
   "cell_type": "code",
   "execution_count": null,
   "id": "11e64eac",
   "metadata": {},
   "outputs": [],
   "source": []
  }
 ],
 "metadata": {
  "kernelspec": {
   "display_name": "es263or_env",
   "language": "python",
   "name": "es263or_env"
  },
  "language_info": {
   "codemirror_mode": {
    "name": "ipython",
    "version": 3
   },
   "file_extension": ".py",
   "mimetype": "text/x-python",
   "name": "python",
   "nbconvert_exporter": "python",
   "pygments_lexer": "ipython3",
   "version": "3.8.2"
  }
 },
 "nbformat": 4,
 "nbformat_minor": 5
}
